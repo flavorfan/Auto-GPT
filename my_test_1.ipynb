{
 "cells": [
  {
   "cell_type": "code",
   "execution_count": 1,
   "source": [
    "# import packages\n",
    "import sys \n",
    "sys.path.append('scripts/')\n",
    "import json\n",
    "import random\n",
    "import commands as cmd\n",
    "import utils\n",
    "from memory import get_memory, get_supported_memory_backends\n",
    "import chat\n",
    "from colorama import Fore, Style\n",
    "from spinner import Spinner\n",
    "import time\n",
    "import speak\n",
    "from config import Config\n",
    "from json_parser import fix_and_parse_json\n",
    "from ai_config import AIConfig\n",
    "import traceback\n",
    "import yaml\n",
    "import argparse\n",
    "from logger import logger\n",
    "import logging\n",
    "from prompt import get_prompt"
   ],
   "outputs": [
    {
     "output_type": "stream",
     "name": "stderr",
     "text": [
      "/home/codespace/.local/lib/python3.10/site-packages/pinecone/index.py:4: TqdmWarning: IProgress not found. Please update jupyter and ipywidgets. See https://ipywidgets.readthedocs.io/en/stable/user_install.html\n",
      "  from tqdm.autonotebook import tqdm\n"
     ]
    }
   ],
   "metadata": {}
  },
  {
   "cell_type": "code",
   "execution_count": 2,
   "source": [
    "cfg = Config()"
   ],
   "outputs": [],
   "metadata": {}
  },
  {
   "cell_type": "code",
   "execution_count": 3,
   "source": [
    "cfg.set_debug_mode(True)"
   ],
   "outputs": [],
   "metadata": {}
  },
  {
   "cell_type": "code",
   "execution_count": 4,
   "source": [
    "cfg.set_smart_llm_model(cfg.fast_llm_model)"
   ],
   "outputs": [],
   "metadata": {}
  },
  {
   "cell_type": "code",
   "execution_count": 5,
   "source": [
    "get_supported_memory_backends()"
   ],
   "outputs": [
    {
     "output_type": "execute_result",
     "data": {
      "text/plain": [
       "['local', 'redis', 'pinecone']"
      ]
     },
     "metadata": {},
     "execution_count": 5
    }
   ],
   "metadata": {}
  },
  {
   "cell_type": "code",
   "execution_count": 6,
   "source": [
    "cfg.memory_backend = 'local'"
   ],
   "outputs": [],
   "metadata": {}
  },
  {
   "cell_type": "code",
   "execution_count": 7,
   "source": [
    "logger.set_level(logging.DEBUG if cfg.debug_mode else logging.INFO)"
   ],
   "outputs": [],
   "metadata": {}
  },
  {
   "cell_type": "code",
   "execution_count": 8,
   "source": [
    "ai_name = \"\""
   ],
   "outputs": [],
   "metadata": {}
  },
  {
   "cell_type": "code",
   "execution_count": 9,
   "source": [
    "# make first prompt\n",
    "def construct_prompt():\n",
    "    \"\"\"Construct the prompt for the AI to respond to\"\"\"\n",
    "    config = AIConfig.load()\n",
    "    if config.ai_name:\n",
    "        logger.typewriter_log(\n",
    "            f\"Welcome back! \",\n",
    "            Fore.GREEN,\n",
    "            f\"Would you like me to return to being {config.ai_name}?\",\n",
    "            speak_text=True)\n",
    "        should_continue = utils.clean_input(f\"\"\"Continue with the last settings?\n",
    "Name:  {config.ai_name}\n",
    "Role:  {config.ai_role}\n",
    "Goals: {config.ai_goals}\n",
    "Continue (y/n): \"\"\")\n",
    "        if should_continue.lower() == \"n\":\n",
    "            config = AIConfig()\n",
    "\n",
    "    if not config.ai_name:\n",
    "        config = prompt_user()\n",
    "        config.save()\n",
    "\n",
    "    # Get rid of this global:\n",
    "    global ai_name\n",
    "    ai_name = config.ai_name\n",
    "\n",
    "    full_prompt = config.construct_full_prompt()\n",
    "    return full_prompt\n",
    "prompt = construct_prompt()\n",
    "print(prompt)"
   ],
   "outputs": [
    {
     "output_type": "stream",
     "name": "stdout",
     "text": [
      "\u001b[32mWelcome  back! \u001b[0m Would you like me to return to being writer_2?\n",
      "You are writer_2, an AI design to write articles\n",
      "Your decisions must always be made independently without seeking user assistance. Play to your strengths as an LLM and pursue simple strategies with no legal complications.\n",
      "\n",
      "GOALS:\n",
      "\n",
      "1. Search 10 news items about AutoGPT on the Internet\n",
      "2. Summarize the news into a 1000-word \"news.txt\".\n",
      "3. None\n",
      "4. None\n",
      "5. None\n",
      "\n",
      "\n",
      "Constraints:\n",
      "1. ~4000 word limit for short term memory. Your short term memory is short, so immediately save important information to files.\n",
      "2. If you are unsure how you previously did something or want to recall past events, thinking about similar events will help you remember.\n",
      "3. No user assistance\n",
      "4. Exclusively use the commands listed in double quotes e.g. \"command name\"\n",
      "\n",
      "Commands:\n",
      "1. Google Search: \"google\", args: \"input\": \"<search>\"\n",
      "2. Browse Website: \"browse_website\", args: \"url\": \"<url>\", \"question\": \"<what_you_want_to_find_on_website>\"\n",
      "3. Start GPT Agent: \"start_agent\", args: \"name\": \"<name>\", \"task\": \"<short_task_desc>\", \"prompt\": \"<prompt>\"\n",
      "4. Message GPT Agent: \"message_agent\", args: \"key\": \"<key>\", \"message\": \"<message>\"\n",
      "5. List GPT Agents: \"list_agents\", args: \n",
      "6. Delete GPT Agent: \"delete_agent\", args: \"key\": \"<key>\"\n",
      "7. Write to file: \"write_to_file\", args: \"file\": \"<file>\", \"text\": \"<text>\"\n",
      "8. Read file: \"read_file\", args: \"file\": \"<file>\"\n",
      "9. Append to file: \"append_to_file\", args: \"file\": \"<file>\", \"text\": \"<text>\"\n",
      "10. Delete file: \"delete_file\", args: \"file\": \"<file>\"\n",
      "11. Search Files: \"search_files\", args: \"directory\": \"<directory>\"\n",
      "12. Evaluate Code: \"evaluate_code\", args: \"code\": \"<full_code_string>\"\n",
      "13. Get Improved Code: \"improve_code\", args: \"suggestions\": \"<list_of_suggestions>\", \"code\": \"<full_code_string>\"\n",
      "14. Write Tests: \"write_tests\", args: \"code\": \"<full_code_string>\", \"focus\": \"<list_of_focus_areas>\"\n",
      "15. Execute Python File: \"execute_python_file\", args: \"file\": \"<file>\"\n",
      "16. Execute Shell Command, non-interactive commands only: \"execute_shell\", args: \"command_line\": \"<command_line>\"\n",
      "17. Task Complete (Shutdown): \"task_complete\", args: \"reason\": \"<reason>\"\n",
      "18. Generate Image: \"generate_image\", args: \"prompt\": \"<prompt>\"\n",
      "19. Do Nothing: \"do_nothing\", args: \n",
      "\n",
      "Resources:\n",
      "1. Internet access for searches and information gathering.\n",
      "2. Long Term memory management.\n",
      "3. GPT-3.5 powered Agents for delegation of simple tasks.\n",
      "4. File output.\n",
      "\n",
      "Performance Evaluation:\n",
      "1. Continuously review and analyze your actions to ensure you are performing to the best of your abilities.\n",
      "2. Constructively self-criticize your big-picture behavior constantly.\n",
      "3. Reflect on past decisions and strategies to refine your approach.\n",
      "4. Every command has a cost, so be smart and efficient. Aim to complete tasks in the least number of steps.\n",
      "\n",
      "You should only respond in JSON format as described below \n",
      "Response Format: \n",
      "{\n",
      "    \"thoughts\": {\n",
      "        \"text\": \"thought\",\n",
      "        \"reasoning\": \"reasoning\",\n",
      "        \"plan\": \"- short bulleted\\n- list that conveys\\n- long-term plan\",\n",
      "        \"criticism\": \"constructive self-criticism\",\n",
      "        \"speak\": \"thoughts summary to say to user\"\n",
      "    },\n",
      "    \"command\": {\n",
      "        \"name\": \"command name\",\n",
      "        \"args\": {\n",
      "            \"arg name\": \"value\"\n",
      "        }\n",
      "    }\n",
      "} \n",
      "Ensure the response can be parsed by Python json.loads\n"
     ]
    }
   ],
   "metadata": {}
  },
  {
   "cell_type": "code",
   "execution_count": 10,
   "source": [
    "full_message_history = []\n",
    "result = None\n",
    "next_action_count = 0\n",
    "# Make a constant:\n",
    "user_input = \"Determine which next command to use, and respond using the format specified above:\"\n",
    "# Initialize memory and make sure it is empty.\n",
    "# this is particularly important for indexing and referencing pinecone memory"
   ],
   "outputs": [],
   "metadata": {}
  },
  {
   "cell_type": "code",
   "execution_count": 11,
   "source": [
    "# memory init\n",
    "memory = get_memory(cfg, init=True)\n",
    "memory"
   ],
   "outputs": [
    {
     "output_type": "execute_result",
     "data": {
      "text/plain": [
       "<memory.local.LocalCache at 0x7f78d3232e90>"
      ]
     },
     "metadata": {},
     "execution_count": 11
    }
   ],
   "metadata": {}
  },
  {
   "cell_type": "code",
   "execution_count": 12,
   "source": [
    "print('Using memory of type: ' + memory.__class__.__name__)"
   ],
   "outputs": [
    {
     "output_type": "stream",
     "name": "stdout",
     "text": [
      "Using memory of type: LocalCache\n"
     ]
    }
   ],
   "metadata": {}
  },
  {
   "cell_type": "code",
   "execution_count": 13,
   "source": [
    "loop_count = 0"
   ],
   "outputs": [],
   "metadata": {}
  },
  {
   "cell_type": "code",
   "execution_count": 14,
   "source": [
    "assistant_reply = chat.chat_with_ai(\n",
    "    prompt,\n",
    "    user_input,\n",
    "    full_message_history,\n",
    "    memory,\n",
    "    cfg.fast_token_limit) \n",
    "\n",
    "print(assistant_reply)"
   ],
   "outputs": [
    {
     "output_type": "stream",
     "name": "stdout",
     "text": [
      " \u001b[0m Token limit: 4000\n",
      " \u001b[0m Memory Stats: (0, (0, 1536))\n",
      " \u001b[0m Token limit: 4000\n",
      " \u001b[0m Send Token Count: 898\n",
      " \u001b[0m Tokens remaining for response: 3102\n",
      " \u001b[0m ------------ CONTEXT SENT TO AI ---------------\n",
      " \u001b[0m System: The current time and date is Wed Apr 19 01:14:08 2023\n",
      " \u001b[0m \n",
      " \u001b[0m System: This reminds you of these events from your past:\n",
      "\n",
      "\n",
      "\n",
      " \u001b[0m \n",
      " \u001b[0m User: Determine which next command to use, and respond using the format specified above:\n",
      " \u001b[0m \n",
      " \u001b[0m ----------- END OF CONTEXT ----------------\n",
      "{\n",
      "    \"thoughts\": {\n",
      "        \"text\": \"I will begin by searching the internet for recent news about AutoGPT.\",\n",
      "        \"reasoning\": \"I need up-to-date information to write my article on AutoGPT.\",\n",
      "        \"plan\": \"- Search the internet using Google search for recent news about Autogpt\\n- Read through them, and select the top 10 relevant news articles\\n- Summarize the news articles into a 1000-word news.txt file.\",\n",
      "        \"criticism\": \"I should be mindful not to spend too much time on this task as I have other tasks that need to be done later.\",\n",
      "        \"speak\": \"I will perform a Google search to find recent news about AutoGPT.\"\n",
      "    },\n",
      "    \"command\": {\n",
      "        \"name\": \"google\",\n",
      "        \"args\": {\n",
      "            \"input\": \"recent news about AutoGPT\"\n",
      "        }\n",
      "    }\n",
      "}\n"
     ]
    }
   ],
   "metadata": {}
  },
  {
   "cell_type": "code",
   "execution_count": 16,
   "source": [
    "def print_assistant_thoughts(assistant_reply):\n",
    "    \"\"\"Prints the assistant's thoughts to the console\"\"\"\n",
    "    global ai_name\n",
    "    global cfg\n",
    "    try:\n",
    "        try:\n",
    "            # Parse and print Assistant response\n",
    "            assistant_reply_json = fix_and_parse_json(assistant_reply)\n",
    "        except json.JSONDecodeError as e:\n",
    "            logger.error(\"Error: Invalid JSON in assistant thoughts\\n\", assistant_reply)\n",
    "            assistant_reply_json = attempt_to_fix_json_by_finding_outermost_brackets(assistant_reply)\n",
    "            assistant_reply_json = fix_and_parse_json(assistant_reply_json)\n",
    "\n",
    "        # Check if assistant_reply_json is a string and attempt to parse it into a JSON object\n",
    "        if isinstance(assistant_reply_json, str):\n",
    "            try:\n",
    "                assistant_reply_json = json.loads(assistant_reply_json)\n",
    "            except json.JSONDecodeError as e:\n",
    "                logger.error(\"Error: Invalid JSON\\n\", assistant_reply)\n",
    "                assistant_reply_json = attempt_to_fix_json_by_finding_outermost_brackets(assistant_reply_json)\n",
    "\n",
    "        assistant_thoughts_reasoning = None\n",
    "        assistant_thoughts_plan = None\n",
    "        assistant_thoughts_speak = None\n",
    "        assistant_thoughts_criticism = None\n",
    "        assistant_thoughts = assistant_reply_json.get(\"thoughts\", {})\n",
    "        assistant_thoughts_text = assistant_thoughts.get(\"text\")\n",
    "\n",
    "        if assistant_thoughts:\n",
    "            assistant_thoughts_reasoning = assistant_thoughts.get(\"reasoning\")\n",
    "            assistant_thoughts_plan = assistant_thoughts.get(\"plan\")\n",
    "            assistant_thoughts_criticism = assistant_thoughts.get(\"criticism\")\n",
    "            assistant_thoughts_speak = assistant_thoughts.get(\"speak\")\n",
    "\n",
    "        logger.typewriter_log(f\"{ai_name.upper()} THOUGHTS:\", Fore.YELLOW, assistant_thoughts_text)\n",
    "        logger.typewriter_log(\"REASONING:\", Fore.YELLOW, assistant_thoughts_reasoning)\n",
    "\n",
    "        if assistant_thoughts_plan:\n",
    "            logger.typewriter_log(\"PLAN:\", Fore.YELLOW, \"\")\n",
    "            # If it's a list, join it into a string\n",
    "            if isinstance(assistant_thoughts_plan, list):\n",
    "                assistant_thoughts_plan = \"\\n\".join(assistant_thoughts_plan)\n",
    "            elif isinstance(assistant_thoughts_plan, dict):\n",
    "                assistant_thoughts_plan = str(assistant_thoughts_plan)\n",
    "\n",
    "            # Split the input_string using the newline character and dashes\n",
    "            lines = assistant_thoughts_plan.split('\\n')\n",
    "            for line in lines:\n",
    "                line = line.lstrip(\"- \")\n",
    "                logger.typewriter_log(\"- \", Fore.GREEN, line.strip())\n",
    "\n",
    "        logger.typewriter_log(\"CRITICISM:\", Fore.YELLOW, assistant_thoughts_criticism)\n",
    "        # Speak the assistant's thoughts\n",
    "        if cfg.speak_mode and assistant_thoughts_speak:\n",
    "            speak.say_text(assistant_thoughts_speak)\n",
    "\n",
    "        return assistant_reply_json\n",
    "    except json.decoder.JSONDecodeError as e:\n",
    "        logger.error(\"Error: Invalid JSON\\n\", assistant_reply)\n",
    "        if cfg.speak_mode:\n",
    "            speak.say_text(\"I have received an invalid JSON response from the OpenAI API. I cannot ignore this response.\")\n",
    "\n",
    "    # All other errors, return \"Error: + error message\"\n",
    "    except Exception as e:\n",
    "        call_stack = traceback.format_exc()\n",
    "        logger.error(\"Error: \\n\", call_stack)\n",
    "print_assistant_thoughts(assistant_reply)"
   ],
   "outputs": [
    {
     "output_type": "stream",
     "name": "stdout",
     "text": [
      "\u001b[33mWRITER_2 THOUGHTS: \u001b[0m I will begin by searching the internet for recent news about AutoGPT.\n",
      "\u001b[33mREASONING: \u001b[0m I need up-to-date information to write my article on AutoGPT.\n",
      "\u001b[33mPLAN: \u001b[0m\n",
      "\u001b[32m- \u001b[0m Search the internet using Google search for recent news about Autogpt\n",
      "\u001b[32m- \u001b[0m Read through them, and select the top 10 relevant news articles\n",
      "\u001b[32m- \u001b[0m Summarize the news articles into a 1000-word news.txt file.\n",
      "\u001b[33mCRITICISM: \u001b[0m I should be mindful not to spend too much time on this task as I have other tasks that need to be done later.\n"
     ]
    },
    {
     "output_type": "execute_result",
     "data": {
      "text/plain": [
       "{'thoughts': {'text': 'I will begin by searching the internet for recent news about AutoGPT.',\n",
       "  'reasoning': 'I need up-to-date information to write my article on AutoGPT.',\n",
       "  'plan': '- Search the internet using Google search for recent news about Autogpt\\n- Read through them, and select the top 10 relevant news articles\\n- Summarize the news articles into a 1000-word news.txt file.',\n",
       "  'criticism': 'I should be mindful not to spend too much time on this task as I have other tasks that need to be done later.',\n",
       "  'speak': 'I will perform a Google search to find recent news about AutoGPT.'},\n",
       " 'command': {'name': 'google', 'args': {'input': 'recent news about AutoGPT'}}}"
      ]
     },
     "metadata": {},
     "execution_count": 16
    }
   ],
   "metadata": {}
  },
  {
   "cell_type": "code",
   "execution_count": 17,
   "source": [
    "# parse assistant reply to get command name and arguments\n",
    "# command_name, arguments = cmd.get_command(\n",
    "                # attempt_to_fix_json_by_finding_outermost_brackets(assistant_reply))\n",
    "\n",
    "def attempt_to_fix_json_by_finding_outermost_brackets(json_string):\n",
    "    if cfg.speak_mode and cfg.debug_mode:\n",
    "      speak.say_text(\"I have received an invalid JSON response from the OpenAI API. Trying to fix it now.\")\n",
    "    logger.typewriter_log(\"Attempting to fix JSON by finding outermost brackets\\n\")\n",
    "\n",
    "    try:\n",
    "        # Use regex to search for JSON objects\n",
    "        import regex\n",
    "        json_pattern = regex.compile(r\"\\{(?:[^{}]|(?R))*\\}\")\n",
    "        json_match = json_pattern.search(json_string)\n",
    "\n",
    "        if json_match:\n",
    "            # Extract the valid JSON object from the string\n",
    "            json_string = json_match.group(0)\n",
    "            logger.typewriter_log(title=\"Apparently json was fixed.\", title_color=Fore.GREEN)\n",
    "            if cfg.speak_mode and cfg.debug_mode:\n",
    "               speak.say_text(\"Apparently json was fixed.\")\n",
    "        else:\n",
    "            raise ValueError(\"No valid JSON object found\")\n",
    "\n",
    "    except (json.JSONDecodeError, ValueError) as e:\n",
    "        if cfg.speak_mode:\n",
    "            speak.say_text(\"Didn't work. I will have to ignore this response then.\")\n",
    "        logger.error(\"Error: Invalid JSON, setting it to empty JSON now.\\n\")\n",
    "        json_string = {}\n",
    "\n",
    "    return json_string\n",
    "\n",
    "attempt_to_fix_json_by_finding_outermost_brackets(assistant_reply)"
   ],
   "outputs": [
    {
     "output_type": "stream",
     "name": "stdout",
     "text": [
      "Attempting to fix JSON by finding outermost brackets \u001b[0m\n",
      "\u001b[32mApparently json was fixed. \u001b[0m\n"
     ]
    },
    {
     "output_type": "execute_result",
     "data": {
      "text/plain": [
       "'{\\n    \"thoughts\": {\\n        \"text\": \"I will begin by searching the internet for recent news about AutoGPT.\",\\n        \"reasoning\": \"I need up-to-date information to write my article on AutoGPT.\",\\n        \"plan\": \"- Search the internet using Google search for recent news about Autogpt\\\\n- Read through them, and select the top 10 relevant news articles\\\\n- Summarize the news articles into a 1000-word news.txt file.\",\\n        \"criticism\": \"I should be mindful not to spend too much time on this task as I have other tasks that need to be done later.\",\\n        \"speak\": \"I will perform a Google search to find recent news about AutoGPT.\"\\n    },\\n    \"command\": {\\n        \"name\": \"google\",\\n        \"args\": {\\n            \"input\": \"recent news about AutoGPT\"\\n        }\\n    }\\n}'"
      ]
     },
     "metadata": {},
     "execution_count": 17
    }
   ],
   "metadata": {}
  },
  {
   "cell_type": "code",
   "execution_count": 18,
   "source": [
    "assistant_reply"
   ],
   "outputs": [
    {
     "output_type": "execute_result",
     "data": {
      "text/plain": [
       "'{\\n    \"thoughts\": {\\n        \"text\": \"I will begin by searching the internet for recent news about AutoGPT.\",\\n        \"reasoning\": \"I need up-to-date information to write my article on AutoGPT.\",\\n        \"plan\": \"- Search the internet using Google search for recent news about Autogpt\\\\n- Read through them, and select the top 10 relevant news articles\\\\n- Summarize the news articles into a 1000-word news.txt file.\",\\n        \"criticism\": \"I should be mindful not to spend too much time on this task as I have other tasks that need to be done later.\",\\n        \"speak\": \"I will perform a Google search to find recent news about AutoGPT.\"\\n    },\\n    \"command\": {\\n        \"name\": \"google\",\\n        \"args\": {\\n            \"input\": \"recent news about AutoGPT\"\\n        }\\n    }\\n}'"
      ]
     },
     "metadata": {},
     "execution_count": 18
    }
   ],
   "metadata": {}
  },
  {
   "cell_type": "code",
   "execution_count": 19,
   "source": [
    "print(assistant_reply)"
   ],
   "outputs": [
    {
     "output_type": "stream",
     "name": "stdout",
     "text": [
      "{\n",
      "    \"thoughts\": {\n",
      "        \"text\": \"I will begin by searching the internet for recent news about AutoGPT.\",\n",
      "        \"reasoning\": \"I need up-to-date information to write my article on AutoGPT.\",\n",
      "        \"plan\": \"- Search the internet using Google search for recent news about Autogpt\\n- Read through them, and select the top 10 relevant news articles\\n- Summarize the news articles into a 1000-word news.txt file.\",\n",
      "        \"criticism\": \"I should be mindful not to spend too much time on this task as I have other tasks that need to be done later.\",\n",
      "        \"speak\": \"I will perform a Google search to find recent news about AutoGPT.\"\n",
      "    },\n",
      "    \"command\": {\n",
      "        \"name\": \"google\",\n",
      "        \"args\": {\n",
      "            \"input\": \"recent news about AutoGPT\"\n",
      "        }\n",
      "    }\n",
      "}\n"
     ]
    }
   ],
   "metadata": {}
  },
  {
   "cell_type": "code",
   "execution_count": 20,
   "source": [
    "command_name, arguments = cmd.get_command(\n",
    "                attempt_to_fix_json_by_finding_outermost_brackets(assistant_reply))\n",
    "\n",
    "command_name, arguments"
   ],
   "outputs": [
    {
     "output_type": "stream",
     "name": "stdout",
     "text": [
      "Attempting to fix JSON by finding outermost brackets \u001b[0m\n",
      "\u001b[32mApparently json was fixed. \u001b[0m\n"
     ]
    },
    {
     "output_type": "execute_result",
     "data": {
      "text/plain": [
       "('google', {'input': 'recent news about AutoGPT'})"
      ]
     },
     "metadata": {},
     "execution_count": 20
    }
   ],
   "metadata": {}
  },
  {
   "cell_type": "code",
   "execution_count": 21,
   "source": [
    "# run command\n",
    "rlt = cmd.execute_command(command_name, arguments)"
   ],
   "outputs": [],
   "metadata": {}
  },
  {
   "cell_type": "code",
   "execution_count": 22,
   "source": [
    "rlt"
   ],
   "outputs": [
    {
     "output_type": "execute_result",
     "data": {
      "text/plain": [
       "['https://www.marktechpost.com/2023/04/16/breaking-down-autogpt-what-it-is-its-features-limitations-artificial-general-intelligence-agi-and-impact-of-autonomous-agents-on-generative-ai/',\n",
       " 'https://interestingengineering.com/innovation/meet-autogpt-internet-is-crazy-about',\n",
       " 'https://levelup.gitconnected.com/autogpt-the-new-kid-on-the-ai-block-thats-changing-everything-6d6ee8cf169f',\n",
       " 'https://www.euronews.com/next/2023/04/14/make-some-room-chatgpt-rival-ai-chatbot-autogpt-has-landed-this-is-what-we-know-about-it-s',\n",
       " 'https://fortune.com/2023/04/15/babyagi-autogpt-openai-gpt-4-autonomous-assistant-agi/',\n",
       " 'https://pub.towardsai.net/the-ai-revolution-how-auto-gpt-unleashes-a-new-era-of-automation-and-creativity-2008aa2ca6ae',\n",
       " 'https://www.tomsguide.com/news/auto-gpt',\n",
       " 'https://autogpt.net/amazing-use-cases-for-auto-gpt-on-twitter/']"
      ]
     },
     "metadata": {},
     "execution_count": 22
    }
   ],
   "metadata": {}
  },
  {
   "cell_type": "code",
   "execution_count": 23,
   "source": [
    "result = f\"Command {command_name} returned: {rlt}\"\n",
    "result"
   ],
   "outputs": [
    {
     "output_type": "execute_result",
     "data": {
      "text/plain": [
       "\"Command google returned: ['https://www.marktechpost.com/2023/04/16/breaking-down-autogpt-what-it-is-its-features-limitations-artificial-general-intelligence-agi-and-impact-of-autonomous-agents-on-generative-ai/', 'https://interestingengineering.com/innovation/meet-autogpt-internet-is-crazy-about', 'https://levelup.gitconnected.com/autogpt-the-new-kid-on-the-ai-block-thats-changing-everything-6d6ee8cf169f', 'https://www.euronews.com/next/2023/04/14/make-some-room-chatgpt-rival-ai-chatbot-autogpt-has-landed-this-is-what-we-know-about-it-s', 'https://fortune.com/2023/04/15/babyagi-autogpt-openai-gpt-4-autonomous-assistant-agi/', 'https://pub.towardsai.net/the-ai-revolution-how-auto-gpt-unleashes-a-new-era-of-automation-and-creativity-2008aa2ca6ae', 'https://www.tomsguide.com/news/auto-gpt', 'https://autogpt.net/amazing-use-cases-for-auto-gpt-on-twitter/']\""
      ]
     },
     "metadata": {},
     "execution_count": 23
    }
   ],
   "metadata": {}
  },
  {
   "cell_type": "code",
   "execution_count": 24,
   "source": [
    "user_input == \"GENERATE NEXT COMMAND JSON\"\n",
    "memory_to_add = f\"Assistant Reply: {assistant_reply} \" \\\n",
    "                f\"\\nResult: {result} \" \\\n",
    "                f\"\\nHuman Feedback: {user_input} \"\n",
    "memory_to_add"
   ],
   "outputs": [
    {
     "output_type": "execute_result",
     "data": {
      "text/plain": [
       "'Assistant Reply: {\\n    \"thoughts\": {\\n        \"text\": \"I will begin by searching the internet for recent news about AutoGPT.\",\\n        \"reasoning\": \"I need up-to-date information to write my article on AutoGPT.\",\\n        \"plan\": \"- Search the internet using Google search for recent news about Autogpt\\\\n- Read through them, and select the top 10 relevant news articles\\\\n- Summarize the news articles into a 1000-word news.txt file.\",\\n        \"criticism\": \"I should be mindful not to spend too much time on this task as I have other tasks that need to be done later.\",\\n        \"speak\": \"I will perform a Google search to find recent news about AutoGPT.\"\\n    },\\n    \"command\": {\\n        \"name\": \"google\",\\n        \"args\": {\\n            \"input\": \"recent news about AutoGPT\"\\n        }\\n    }\\n} \\nResult: Command google returned: [\\'https://www.marktechpost.com/2023/04/16/breaking-down-autogpt-what-it-is-its-features-limitations-artificial-general-intelligence-agi-and-impact-of-autonomous-agents-on-generative-ai/\\', \\'https://interestingengineering.com/innovation/meet-autogpt-internet-is-crazy-about\\', \\'https://levelup.gitconnected.com/autogpt-the-new-kid-on-the-ai-block-thats-changing-everything-6d6ee8cf169f\\', \\'https://www.euronews.com/next/2023/04/14/make-some-room-chatgpt-rival-ai-chatbot-autogpt-has-landed-this-is-what-we-know-about-it-s\\', \\'https://fortune.com/2023/04/15/babyagi-autogpt-openai-gpt-4-autonomous-assistant-agi/\\', \\'https://pub.towardsai.net/the-ai-revolution-how-auto-gpt-unleashes-a-new-era-of-automation-and-creativity-2008aa2ca6ae\\', \\'https://www.tomsguide.com/news/auto-gpt\\', \\'https://autogpt.net/amazing-use-cases-for-auto-gpt-on-twitter/\\'] \\nHuman Feedback: Determine which next command to use, and respond using the format specified above: '"
      ]
     },
     "metadata": {},
     "execution_count": 24
    }
   ],
   "metadata": {}
  },
  {
   "cell_type": "code",
   "execution_count": 25,
   "source": [
    "user_input == \"GENERATE NEXT COMMAND JSON\"\n",
    "memory_to_add = f\"Assistant Reply: {assistant_reply} \" \\\n",
    "                f\"\\nResult: {result} \" \\\n",
    "                f\"\\nHuman Feedback: {user_input} \"\n",
    "print(memory_to_add)"
   ],
   "outputs": [
    {
     "output_type": "stream",
     "name": "stdout",
     "text": [
      "Assistant Reply: {\n",
      "    \"thoughts\": {\n",
      "        \"text\": \"I will begin by searching the internet for recent news about AutoGPT.\",\n",
      "        \"reasoning\": \"I need up-to-date information to write my article on AutoGPT.\",\n",
      "        \"plan\": \"- Search the internet using Google search for recent news about Autogpt\\n- Read through them, and select the top 10 relevant news articles\\n- Summarize the news articles into a 1000-word news.txt file.\",\n",
      "        \"criticism\": \"I should be mindful not to spend too much time on this task as I have other tasks that need to be done later.\",\n",
      "        \"speak\": \"I will perform a Google search to find recent news about AutoGPT.\"\n",
      "    },\n",
      "    \"command\": {\n",
      "        \"name\": \"google\",\n",
      "        \"args\": {\n",
      "            \"input\": \"recent news about AutoGPT\"\n",
      "        }\n",
      "    }\n",
      "} \n",
      "Result: Command google returned: ['https://www.marktechpost.com/2023/04/16/breaking-down-autogpt-what-it-is-its-features-limitations-artificial-general-intelligence-agi-and-impact-of-autonomous-agents-on-generative-ai/', 'https://interestingengineering.com/innovation/meet-autogpt-internet-is-crazy-about', 'https://levelup.gitconnected.com/autogpt-the-new-kid-on-the-ai-block-thats-changing-everything-6d6ee8cf169f', 'https://www.euronews.com/next/2023/04/14/make-some-room-chatgpt-rival-ai-chatbot-autogpt-has-landed-this-is-what-we-know-about-it-s', 'https://fortune.com/2023/04/15/babyagi-autogpt-openai-gpt-4-autonomous-assistant-agi/', 'https://pub.towardsai.net/the-ai-revolution-how-auto-gpt-unleashes-a-new-era-of-automation-and-creativity-2008aa2ca6ae', 'https://www.tomsguide.com/news/auto-gpt', 'https://autogpt.net/amazing-use-cases-for-auto-gpt-on-twitter/'] \n",
      "Human Feedback: Determine which next command to use, and respond using the format specified above: \n"
     ]
    }
   ],
   "metadata": {}
  },
  {
   "cell_type": "code",
   "execution_count": 26,
   "source": [
    "memory.add(memory_to_add)\n",
    "memory"
   ],
   "outputs": [
    {
     "output_type": "execute_result",
     "data": {
      "text/plain": [
       "<memory.local.LocalCache at 0x7f78d3232e90>"
      ]
     },
     "metadata": {},
     "execution_count": 26
    }
   ],
   "metadata": {}
  },
  {
   "cell_type": "code",
   "execution_count": 27,
   "source": [
    "# ?add log out put file\n",
    "full_message_history.append(chat.create_chat_message(\"system\", result))\n",
    "logger.typewriter_log(\"SYSTEM: \", Fore.YELLOW, result)"
   ],
   "outputs": [
    {
     "output_type": "stream",
     "name": "stdout",
     "text": [
      "\u001b[33mSYSTEM:  \u001b[0m Command google returned: ['https://www.marktechpost.com/2023/04/16/breaking-down-autogpt-what-it-is-its-features-limitations-artificial-general-intelligence-agi-and-impact-of-autonomous-agents-on-generative-ai/', 'https://interestingengineering.com/innovation/meet-autogpt-internet-is-crazy-about', 'https://levelup.gitconnected.com/autogpt-the-new-kid-on-the-ai-block-thats-changing-everything-6d6ee8cf169f', 'https://www.euronews.com/next/2023/04/14/make-some-room-chatgpt-rival-ai-chatbot-autogpt-has-landed-this-is-what-we-know-about-it-s', 'https://fortune.com/2023/04/15/babyagi-autogpt-openai-gpt-4-autonomous-assistant-agi/', 'https://pub.towardsai.net/the-ai-revolution-how-auto-gpt-unleashes-a-new-era-of-automation-and-creativity-2008aa2ca6ae', 'https://www.tomsguide.com/news/auto-gpt', 'https://autogpt.net/amazing-use-cases-for-auto-gpt-on-twitter/']\n"
     ]
    }
   ],
   "metadata": {}
  },
  {
   "cell_type": "code",
   "execution_count": 28,
   "source": [
    "full_message_history"
   ],
   "outputs": [
    {
     "output_type": "execute_result",
     "data": {
      "text/plain": [
       "[{'role': 'user',\n",
       "  'content': 'Determine which next command to use, and respond using the format specified above:'},\n",
       " {'role': 'assistant',\n",
       "  'content': '{\\n    \"thoughts\": {\\n        \"text\": \"I will begin by searching the internet for recent news about AutoGPT.\",\\n        \"reasoning\": \"I need up-to-date information to write my article on AutoGPT.\",\\n        \"plan\": \"- Search the internet using Google search for recent news about Autogpt\\\\n- Read through them, and select the top 10 relevant news articles\\\\n- Summarize the news articles into a 1000-word news.txt file.\",\\n        \"criticism\": \"I should be mindful not to spend too much time on this task as I have other tasks that need to be done later.\",\\n        \"speak\": \"I will perform a Google search to find recent news about AutoGPT.\"\\n    },\\n    \"command\": {\\n        \"name\": \"google\",\\n        \"args\": {\\n            \"input\": \"recent news about AutoGPT\"\\n        }\\n    }\\n}'},\n",
       " {'role': 'system',\n",
       "  'content': \"Command google returned: ['https://www.marktechpost.com/2023/04/16/breaking-down-autogpt-what-it-is-its-features-limitations-artificial-general-intelligence-agi-and-impact-of-autonomous-agents-on-generative-ai/', 'https://interestingengineering.com/innovation/meet-autogpt-internet-is-crazy-about', 'https://levelup.gitconnected.com/autogpt-the-new-kid-on-the-ai-block-thats-changing-everything-6d6ee8cf169f', 'https://www.euronews.com/next/2023/04/14/make-some-room-chatgpt-rival-ai-chatbot-autogpt-has-landed-this-is-what-we-know-about-it-s', 'https://fortune.com/2023/04/15/babyagi-autogpt-openai-gpt-4-autonomous-assistant-agi/', 'https://pub.towardsai.net/the-ai-revolution-how-auto-gpt-unleashes-a-new-era-of-automation-and-creativity-2008aa2ca6ae', 'https://www.tomsguide.com/news/auto-gpt', 'https://autogpt.net/amazing-use-cases-for-auto-gpt-on-twitter/']\"}]"
      ]
     },
     "metadata": {},
     "execution_count": 28
    }
   ],
   "metadata": {}
  },
  {
   "cell_type": "code",
   "execution_count": 29,
   "source": [
    "full_message_history[0]"
   ],
   "outputs": [
    {
     "output_type": "execute_result",
     "data": {
      "text/plain": [
       "{'role': 'user',\n",
       " 'content': 'Determine which next command to use, and respond using the format specified above:'}"
      ]
     },
     "metadata": {},
     "execution_count": 29
    }
   ],
   "metadata": {}
  }
 ],
 "nbformat": 4,
 "nbformat_minor": 2,
 "metadata": {
  "language_info": {
   "codemirror_mode": {
    "name": "ipython",
    "version": 3
   },
   "file_extension": ".py",
   "mimetype": "text/x-python",
   "name": "python",
   "nbconvert_exporter": "python",
   "pygments_lexer": "ipython3",
   "version": 3
  },
  "orig_nbformat": 4
 }
}